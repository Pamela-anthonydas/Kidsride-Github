{
 "cells": [
  {
   "cell_type": "code",
   "execution_count": 1,
   "metadata": {},
   "outputs": [],
   "source": [
    "import pymongo\n",
    "\n",
    "myclient = pymongo.MongoClient(\"mongodb://localhost:27017/\")\n",
    "\n",
    "mydb = myclient[\"KidsRidedb1\"]"
   ]
  },
  {
   "cell_type": "code",
   "execution_count": 2,
   "metadata": {},
   "outputs": [],
   "source": [
    "mycol = mydb[\"activityData\"]"
   ]
  },
  {
   "cell_type": "code",
   "execution_count": 7,
   "metadata": {},
   "outputs": [
    {
     "ename": "SyntaxError",
     "evalue": "invalid syntax (<ipython-input-7-24abb1dfedd9>, line 12)",
     "output_type": "error",
     "traceback": [
      "\u001b[1;36m  File \u001b[1;32m\"<ipython-input-7-24abb1dfedd9>\"\u001b[1;36m, line \u001b[1;32m12\u001b[0m\n\u001b[1;33m    { \"_id\": 6, \"category\": \"Sports\", \"name\":\"Jersey City Muay Thai\": \"Sandy\", \"address\": \"372 9th St Unit B, Jersey City, NJ 07302\", \"url\":\"http://www.jerseycitymuaythai.com/\",\"contactPhone\":\"800800800\",\"assetDescription\":\"Sports\",\"location\":[40.7,-74.0],\"city\":\"Jersey City\",\"state\":\"NJ\",\"reviews\":4.6}\u001b[0m\n\u001b[1;37m                                                                    ^\u001b[0m\n\u001b[1;31mSyntaxError\u001b[0m\u001b[1;31m:\u001b[0m invalid syntax\n"
     ]
    }
   ],
   "source": [
    "mylist = [\n",
    "  { \"_id\": 1, \"category\": \"Music\",\"name\":\"The Institute of Music for Children\" ,\"address\": \"780 Salem Ave, Elizabeth, NJ 07208\",\"url\":\"http://www.jerseycitymuaythai.com/\",\"contactPhone\":\"800800800\",\"assetDescription\":\"Music\",\"location\":[40.6,-74.2],\"city\":\"Elizabeth\",\"state\":\"NJ\",\"reviews\":4.1}\n",
    ",\n",
    "  { \"_id\": 2, \"category\": \"Dance\", \" name\":\"American Liberty Ballet\", \"address\": \"527 40th St Second Floor, Union City, NJ 07087\",\"url\":\"http://www.jerseycitymuaythai.com/\",\"contactPhone\":\"800800800\",\"assetDescription\":\"Dance\",\"location\":[40.77,-74.02],\"city\":\"Union City\",\"state\":\"NJ\",\"reviews\":4.3}\n",
    ",\n",
    "  { \"_id\": 3, \"category\": \"Dance\",\"name\":\"The Kennedy Dancers\", \"address\": \"79 Central Ave, Jersey City, NJ 07306\",\"url\":\"http://www.jerseycitymuaythai.com/\",\"contactPhone\":\"800800800\",\"assetDescription\":\"Dance\",\"Location\":[40.7,-74.0],\"city\":\"Jersey City\",\"state\":\"NJ\",\"reviews\":3.9}\n",
    ",\n",
    "  { \"_id\": 4, \"category\": \"Music\",\"name\": \"New City Kids\", \"address\": \"240 Fairmount Ave, Jersey City, NJ 07306\",\"url\":\"http://www.jerseycitymuaythai.com/\",\"contactPhone\":\"800800800\",\"assetDescription\":\"Music\",\"location\":[40.7,-74.0],\"city\":\"Jersey City\",\"state\":\"NJ\",\"reviews\":4.9}\n",
    ",\n",
    "  { \"_id\": 5, \"category\": \"Sports\",\"name\": \"Nj Tae Kwando Four Youth Foundation\", \"address\": \"140 Martin Luther King Dr, Jersey City, NJ 07305\",\"url\":\"http://www.jerseycitymuaythai.com/\",\"contactPhone\":\"800800800\",\"assetDescription\":\"Sports\",\"location\":[40.7,-74.0],\"city\":\"Jersey City\",\"state\":\"NJ\",\"reviews\":4.0}\n",
    ",\n",
    "  { \"_id\": 6, \"category\": \"Sports\", \"name\":\"Jersey City Muay Thai\", \"Sandy\", \"address\": \"372 9th St Unit B, Jersey City, NJ 07302\", \"url\":\"http://www.jerseycitymuaythai.com/\",\"contactPhone\":\"800800800\",\"assetDescription\":\"Sports\",\"location\":[40.7,-74.0],\"city\":\"Jersey City\",\"state\":\"NJ\",\"reviews\":4.6}\n",
    "\n",
    "]"
   ]
  },
  {
   "cell_type": "code",
   "execution_count": null,
   "metadata": {},
   "outputs": [],
   "source": []
  }
 ],
 "metadata": {
  "kernelspec": {
   "display_name": "Python 3",
   "language": "python",
   "name": "python3"
  },
  "language_info": {
   "codemirror_mode": {
    "name": "ipython",
    "version": 3
   },
   "file_extension": ".py",
   "mimetype": "text/x-python",
   "name": "python",
   "nbconvert_exporter": "python",
   "pygments_lexer": "ipython3",
   "version": "3.6.9"
  }
 },
 "nbformat": 4,
 "nbformat_minor": 2
}
