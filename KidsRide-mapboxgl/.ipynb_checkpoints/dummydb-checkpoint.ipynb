{
 "cells": [
  {
   "cell_type": "code",
   "execution_count": 14,
   "metadata": {},
   "outputs": [],
   "source": [
    "import pymongo\n",
    "\n",
    "myclient = pymongo.MongoClient(\"mongodb://localhost:27017/\")\n",
    "\n",
    "# Create DB\n",
    "mydb = myclient[\"KidsRidedb1\"]"
   ]
  },
  {
   "cell_type": "code",
   "execution_count": 15,
   "metadata": {},
   "outputs": [],
   "source": [
    "from pprint import pprint"
   ]
  },
  {
   "cell_type": "code",
   "execution_count": 28,
   "metadata": {},
   "outputs": [],
   "source": [
    "# Create a table ( collection)\n",
    "mycol = mydb[\"activityData1\"]"
   ]
  },
  {
   "cell_type": "code",
   "execution_count": 29,
   "metadata": {},
   "outputs": [],
   "source": [
    "# create dict of dummy data to be inserted\n",
    "mydict1  = [\n",
    "  { \"category\": \"Music\",\"name\":\"The Institute of Music for Children\" ,\"address\": \"780 Salem Ave, Elizabeth, NJ 07208\",\"url\":\"http://www.jerseycitymuaythai.com/\",\"contactPhone\":\"800800800\",\"assetDescription\":\"Music\",\"location\":[40.6,-74.2],\"city\":\"Elizabeth\",\"state\":\"NJ\",\"reviews\":4.1}\n",
    ",\n",
    "  {  \"category\": \"Dance\", \"name\":\"American Liberty Ballet\", \"address\": \"527 40th St Second Floor, Union City, NJ 07087\",\"url\":\"http://www.jerseycitymuaythai.com/\",\"contactPhone\":\"800800800\",\"assetDescription\":\"Dance\",\"location\":[40.77,-74.02],\"city\":\"Union City\",\"state\":\"NJ\",\"reviews\":4.3}\n",
    ",\n",
    "  { \"category\": \"Dance\",\"name\":\"The Kennedy Dancers\", \"address\": \"79 Central Ave, Jersey City, NJ 07306\",\"url\":\"http://www.jerseycitymuaythai.com/\",\"contactPhone\":\"800800800\",\"assetDescription\":\"Dance\",\"location\":[40.7,-74.0],\"city\":\"Jersey City\",\"state\":\"NJ\",\"reviews\":3.9}\n",
    ",\n",
    "  { \"category\": \"Music\",\"name\": \"New City Kids\", \"address\": \"240 Fairmount Ave, Jersey City, NJ 07306\",\"url\":\"http://www.jerseycitymuaythai.com/\",\"contactPhone\":\"800800800\",\"assetDescription\":\"Music\",\"location\":[40.7,-74.0],\"city\":\"Jersey City\",\"state\":\"NJ\",\"reviews\":4.9}\n",
    ",\n",
    "  { \"category\": \"Sports\",\"name\": \"Nj Tae Kwando Four Youth Foundation\", \"address\": \"140 Martin Luther King Dr, Jersey City, NJ 07305\",\"url\":\"http://www.jerseycitymuaythai.com/\",\"contactPhone\":\"800800800\",\"assetDescription\":\"Sports\",\"location\":[40.7,-74.0],\"city\":\"Jersey City\",\"state\":\"NJ\",\"reviews\":4.0}\n",
    ",\n",
    "  {\"category\": \"Sports\", \"name\":\"Jersey City Muay Thai\", \"address\": \"372 9th St Unit B, Jersey City, NJ 07302\", \"url\":\"http://www.jerseycitymuaythai.com/\",\"contactPhone\":\"800800800\",\"assetDescription\":\"Sports\",\"location\":[40.7,-74.0],\"city\":\"Jersey City\",\"state\":\"NJ\",\"reviews\":4.6}\n",
    "\n",
    "]"
   ]
  },
  {
   "cell_type": "code",
   "execution_count": 30,
   "metadata": {},
   "outputs": [],
   "source": [
    "# insert many records into db\n",
    "y=mycol.insert_many(mydict1)"
   ]
  },
  {
   "cell_type": "code",
   "execution_count": 31,
   "metadata": {},
   "outputs": [
    {
     "name": "stdout",
     "output_type": "stream",
     "text": [
      "[ObjectId('5ddc576de90b640be54902b1'), ObjectId('5ddc576de90b640be54902b2'), ObjectId('5ddc576de90b640be54902b3'), ObjectId('5ddc576de90b640be54902b4'), ObjectId('5ddc576de90b640be54902b5'), ObjectId('5ddc576de90b640be54902b6')]\n"
     ]
    }
   ],
   "source": [
    "\n",
    "print(y.inserted_ids)"
   ]
  },
  {
   "cell_type": "code",
   "execution_count": 33,
   "metadata": {},
   "outputs": [
    {
     "name": "stdout",
     "output_type": "stream",
     "text": [
      "{'_id': ObjectId('5ddc576de90b640be54902b1'),\n",
      " 'address': '780 Salem Ave, Elizabeth, NJ 07208',\n",
      " 'assetDescription': 'Music',\n",
      " 'category': 'Music',\n",
      " 'city': 'Elizabeth',\n",
      " 'contactPhone': '800800800',\n",
      " 'location': [40.6, -74.2],\n",
      " 'name': 'The Institute of Music for Children',\n",
      " 'reviews': 4.1,\n",
      " 'state': 'NJ',\n",
      " 'url': 'http://www.jerseycitymuaythai.com/'}\n",
      "{'_id': ObjectId('5ddc576de90b640be54902b2'),\n",
      " 'address': '527 40th St Second Floor, Union City, NJ 07087',\n",
      " 'assetDescription': 'Dance',\n",
      " 'category': 'Dance',\n",
      " 'city': 'Union City',\n",
      " 'contactPhone': '800800800',\n",
      " 'location': [40.77, -74.02],\n",
      " 'name': 'American Liberty Ballet',\n",
      " 'reviews': 4.3,\n",
      " 'state': 'NJ',\n",
      " 'url': 'http://www.jerseycitymuaythai.com/'}\n",
      "{'_id': ObjectId('5ddc576de90b640be54902b3'),\n",
      " 'address': '79 Central Ave, Jersey City, NJ 07306',\n",
      " 'assetDescription': 'Dance',\n",
      " 'category': 'Dance',\n",
      " 'city': 'Jersey City',\n",
      " 'contactPhone': '800800800',\n",
      " 'location': [40.7, -74.0],\n",
      " 'name': 'The Kennedy Dancers',\n",
      " 'reviews': 3.9,\n",
      " 'state': 'NJ',\n",
      " 'url': 'http://www.jerseycitymuaythai.com/'}\n",
      "{'_id': ObjectId('5ddc576de90b640be54902b4'),\n",
      " 'address': '240 Fairmount Ave, Jersey City, NJ 07306',\n",
      " 'assetDescription': 'Music',\n",
      " 'category': 'Music',\n",
      " 'city': 'Jersey City',\n",
      " 'contactPhone': '800800800',\n",
      " 'location': [40.7, -74.0],\n",
      " 'name': 'New City Kids',\n",
      " 'reviews': 4.9,\n",
      " 'state': 'NJ',\n",
      " 'url': 'http://www.jerseycitymuaythai.com/'}\n",
      "{'_id': ObjectId('5ddc576de90b640be54902b5'),\n",
      " 'address': '140 Martin Luther King Dr, Jersey City, NJ 07305',\n",
      " 'assetDescription': 'Sports',\n",
      " 'category': 'Sports',\n",
      " 'city': 'Jersey City',\n",
      " 'contactPhone': '800800800',\n",
      " 'location': [40.7, -74.0],\n",
      " 'name': 'Nj Tae Kwando Four Youth Foundation',\n",
      " 'reviews': 4.0,\n",
      " 'state': 'NJ',\n",
      " 'url': 'http://www.jerseycitymuaythai.com/'}\n",
      "{'_id': ObjectId('5ddc576de90b640be54902b6'),\n",
      " 'address': '372 9th St Unit B, Jersey City, NJ 07302',\n",
      " 'assetDescription': 'Sports',\n",
      " 'category': 'Sports',\n",
      " 'city': 'Jersey City',\n",
      " 'contactPhone': '800800800',\n",
      " 'location': [40.7, -74.0],\n",
      " 'name': 'Jersey City Muay Thai',\n",
      " 'reviews': 4.6,\n",
      " 'state': 'NJ',\n",
      " 'url': 'http://www.jerseycitymuaythai.com/'}\n"
     ]
    }
   ],
   "source": [
    "# Loop through records and pretty print\n",
    "for x in mycol.find():\n",
    "  pprint(x)"
   ]
  },
  {
   "cell_type": "code",
   "execution_count": 35,
   "metadata": {},
   "outputs": [
    {
     "ename": "NameError",
     "evalue": "name 'db' is not defined",
     "output_type": "error",
     "traceback": [
      "\u001b[1;31m---------------------------------------------------------------------------\u001b[0m",
      "\u001b[1;31mNameError\u001b[0m                                 Traceback (most recent call last)",
      "\u001b[1;32m<ipython-input-35-a91afb534074>\u001b[0m in \u001b[0;36m<module>\u001b[1;34m\u001b[0m\n\u001b[1;32m----> 1\u001b[1;33m \u001b[0mdb\u001b[0m\u001b[1;33m.\u001b[0m\u001b[0mactivityData1\u001b[0m\u001b[1;33m.\u001b[0m\u001b[0mfind\u001b[0m\u001b[1;33m(\u001b[0m\u001b[1;33m)\u001b[0m\u001b[1;33m\u001b[0m\u001b[1;33m\u001b[0m\u001b[0m\n\u001b[0m",
      "\u001b[1;31mNameError\u001b[0m: name 'db' is not defined"
     ]
    }
   ],
   "source": [
    "\n"
   ]
  },
  {
   "cell_type": "code",
   "execution_count": null,
   "metadata": {},
   "outputs": [],
   "source": []
  }
 ],
 "metadata": {
  "kernelspec": {
   "display_name": "Python 3",
   "language": "python",
   "name": "python3"
  },
  "language_info": {
   "codemirror_mode": {
    "name": "ipython",
    "version": 3
   },
   "file_extension": ".py",
   "mimetype": "text/x-python",
   "name": "python",
   "nbconvert_exporter": "python",
   "pygments_lexer": "ipython3",
   "version": "3.6.9"
  }
 },
 "nbformat": 4,
 "nbformat_minor": 2
}
