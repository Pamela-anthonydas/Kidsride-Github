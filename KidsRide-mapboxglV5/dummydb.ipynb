{
 "cells": [
  {
   "cell_type": "code",
   "execution_count": 1,
   "metadata": {},
   "outputs": [],
   "source": [
    "import pymongo\n",
    "\n",
    "myclient = pymongo.MongoClient(\"mongodb://localhost:27017/\")\n",
    "\n",
    "# Create DB\n",
    "mydb = myclient[\"KidsRidedb1\"]"
   ]
  },
  {
   "cell_type": "code",
   "execution_count": 2,
   "metadata": {},
   "outputs": [],
   "source": [
    "from pprint import pprint"
   ]
  },
  {
   "cell_type": "code",
   "execution_count": 3,
   "metadata": {},
   "outputs": [],
   "source": [
    "# Create a table ( collection)\n",
    "mycol = mydb[\"activityData4\"]"
   ]
  },
  {
   "cell_type": "code",
   "execution_count": 4,
   "metadata": {},
   "outputs": [],
   "source": [
    "# create dict of dummy data to be inserted\n",
    "mydict1  = [\n",
    "  { \"_id\": 1, \"type\": \"Music Classes\",\"name\":\"The Institute of Music for Children\" ,\"address\": \"780 Salem Ave, Elizabeth, NJ 07208\",\"url\":\"http://www.jerseycitymuaythai.com/\",\"contactPhone\":\"800800800\",\"assetDescription\":\"Music\",\"location\":[40.6,-74.2],\"city\":\"Elizabeth\",\"state\":\"NJ\",\"reviews\":4.1}\n",
    ",\n",
    "  {  \"_id\": 2, \"type\": \"Dance Classes\", \"name\":\"American Liberty Ballet\", \"address\": \"527 40th St Second Floor, Union City, NJ 07087\",\"url\":\"http://www.jerseycitymuaythai.com/\",\"contactPhone\":\"800800800\",\"assetDescription\":\"Dance\",\"location\":[40.77,-74.02],\"city\":\"Union City\",\"state\":\"NJ\",\"reviews\":4.3}\n",
    ",\n",
    "  { \"_id\": 3, \"type\": \"Dance Classes\",\"name\":\"The Kennedy Dancers\", \"address\": \"79 Central Ave, Jersey City, NJ 07306\",\"url\":\"http://www.jerseycitymuaythai.com/\",\"contactPhone\":\"800800800\",\"assetDescription\":\"Dance\",\"location\":[40.7,-74.0],\"city\":\"Jersey City\",\"state\":\"NJ\",\"reviews\":3.9}\n",
    ",\n",
    "  { \"_id\": 4, \"type\": \"Music Classes\",\"name\": \"New City Kids\", \"address\": \"240 Fairmount Ave, Jersey City, NJ 07306\",\"url\":\"http://www.jerseycitymuaythai.com/\",\"contactPhone\":\"800800800\",\"assetDescription\":\"Music\",\"location\":[40.7,-74.0],\"city\":\"Jersey City\",\"state\":\"NJ\",\"reviews\":4.9}\n",
    ",\n",
    "  {  \"_id\": 5,\"type\": \"Sports Classes\",\"name\": \"Nj Tae Kwando Four Youth Foundation\", \"address\": \"140 Martin Luther King Dr, Jersey City, NJ 07305\",\"url\":\"http://www.jerseycitymuaythai.com/\",\"contactPhone\":\"800800800\",\"assetDescription\":\"Sports\",\"location\":[40.7,-74.0],\"city\":\"Jersey City\",\"state\":\"NJ\",\"reviews\":4.0}\n",
    ",\n",
    "  { \"_id\": 6,\"type\": \"Sports Classes\", \"name\":\"Jersey City Muay Thai\", \"address\": \"372 9th St Unit B, Jersey City, NJ 07302\", \"url\":\"http://www.jerseycitymuaythai.com/\",\"contactPhone\":\"800800800\",\"assetDescription\":\"Sports\",\"location\":[40.7,-74.0],\"city\":\"Jersey City\",\"state\":\"NJ\",\"reviews\":4.6}\n",
    "\n",
    "]"
   ]
  },
  {
   "cell_type": "code",
   "execution_count": 5,
   "metadata": {},
   "outputs": [],
   "source": [
    "# insert many records into db\n",
    "y=mycol.insert_many(mydict1)"
   ]
  },
  {
   "cell_type": "code",
   "execution_count": 6,
   "metadata": {},
   "outputs": [
    {
     "name": "stdout",
     "output_type": "stream",
     "text": [
      "[1, 2, 3, 4, 5, 6]\n"
     ]
    }
   ],
   "source": [
    "\n",
    "print(y.inserted_ids)"
   ]
  },
  {
   "cell_type": "code",
   "execution_count": 7,
   "metadata": {},
   "outputs": [
    {
     "name": "stdout",
     "output_type": "stream",
     "text": [
      "{'_id': 1,\n",
      " 'address': '780 Salem Ave, Elizabeth, NJ 07208',\n",
      " 'assetDescription': 'Music',\n",
      " 'city': 'Elizabeth',\n",
      " 'contactPhone': '800800800',\n",
      " 'location': [40.6, -74.2],\n",
      " 'name': 'The Institute of Music for Children',\n",
      " 'reviews': 4.1,\n",
      " 'state': 'NJ',\n",
      " 'type': 'Music Classes',\n",
      " 'url': 'http://www.jerseycitymuaythai.com/'}\n",
      "{'_id': 2,\n",
      " 'address': '527 40th St Second Floor, Union City, NJ 07087',\n",
      " 'assetDescription': 'Dance',\n",
      " 'city': 'Union City',\n",
      " 'contactPhone': '800800800',\n",
      " 'location': [40.77, -74.02],\n",
      " 'name': 'American Liberty Ballet',\n",
      " 'reviews': 4.3,\n",
      " 'state': 'NJ',\n",
      " 'type': 'Dance Classes',\n",
      " 'url': 'http://www.jerseycitymuaythai.com/'}\n",
      "{'_id': 3,\n",
      " 'address': '79 Central Ave, Jersey City, NJ 07306',\n",
      " 'assetDescription': 'Dance',\n",
      " 'city': 'Jersey City',\n",
      " 'contactPhone': '800800800',\n",
      " 'location': [40.7, -74.0],\n",
      " 'name': 'The Kennedy Dancers',\n",
      " 'reviews': 3.9,\n",
      " 'state': 'NJ',\n",
      " 'type': 'Dance Classes',\n",
      " 'url': 'http://www.jerseycitymuaythai.com/'}\n",
      "{'_id': 4,\n",
      " 'address': '240 Fairmount Ave, Jersey City, NJ 07306',\n",
      " 'assetDescription': 'Music',\n",
      " 'city': 'Jersey City',\n",
      " 'contactPhone': '800800800',\n",
      " 'location': [40.7, -74.0],\n",
      " 'name': 'New City Kids',\n",
      " 'reviews': 4.9,\n",
      " 'state': 'NJ',\n",
      " 'type': 'Music Classes',\n",
      " 'url': 'http://www.jerseycitymuaythai.com/'}\n",
      "{'_id': 5,\n",
      " 'address': '140 Martin Luther King Dr, Jersey City, NJ 07305',\n",
      " 'assetDescription': 'Sports',\n",
      " 'city': 'Jersey City',\n",
      " 'contactPhone': '800800800',\n",
      " 'location': [40.7, -74.0],\n",
      " 'name': 'Nj Tae Kwando Four Youth Foundation',\n",
      " 'reviews': 4.0,\n",
      " 'state': 'NJ',\n",
      " 'type': 'Sports Classes',\n",
      " 'url': 'http://www.jerseycitymuaythai.com/'}\n",
      "{'_id': 6,\n",
      " 'address': '372 9th St Unit B, Jersey City, NJ 07302',\n",
      " 'assetDescription': 'Sports',\n",
      " 'city': 'Jersey City',\n",
      " 'contactPhone': '800800800',\n",
      " 'location': [40.7, -74.0],\n",
      " 'name': 'Jersey City Muay Thai',\n",
      " 'reviews': 4.6,\n",
      " 'state': 'NJ',\n",
      " 'type': 'Sports Classes',\n",
      " 'url': 'http://www.jerseycitymuaythai.com/'}\n"
     ]
    }
   ],
   "source": [
    "# Loop through records and pretty print\n",
    "for x in mycol.find():\n",
    "  pprint(x)"
   ]
  },
  {
   "cell_type": "code",
   "execution_count": null,
   "metadata": {},
   "outputs": [],
   "source": [
    "\n"
   ]
  },
  {
   "cell_type": "code",
   "execution_count": null,
   "metadata": {},
   "outputs": [],
   "source": []
  }
 ],
 "metadata": {
  "kernelspec": {
   "display_name": "Python 3",
   "language": "python",
   "name": "python3"
  },
  "language_info": {
   "codemirror_mode": {
    "name": "ipython",
    "version": 3
   },
   "file_extension": ".py",
   "mimetype": "text/x-python",
   "name": "python",
   "nbconvert_exporter": "python",
   "pygments_lexer": "ipython3",
   "version": "3.6.9"
  }
 },
 "nbformat": 4,
 "nbformat_minor": 2
}
